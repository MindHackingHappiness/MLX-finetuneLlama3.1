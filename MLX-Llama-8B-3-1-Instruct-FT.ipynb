{
 "cells": [
  {
   "cell_type": "code",
   "execution_count": 1,
   "id": "994e7d29-0b53-4db6-a186-5bf05a205287",
   "metadata": {},
   "outputs": [
    {
     "data": {
      "text/plain": [
       "DatasetDict({\n",
       "    train: Dataset({\n",
       "        features: ['topic', 'domain_task_type', 'id', 'system_prompt_used', 'source', 'conversations'],\n",
       "        num_rows: 13528\n",
       "    })\n",
       "})"
      ]
     },
     "execution_count": 1,
     "metadata": {},
     "output_type": "execute_result"
    }
   ],
   "source": [
    "from datasets import load_dataset\n",
    "\n",
    "dataset = load_dataset(\"teknium/trismegistus-project\")\n",
    "dataset"
   ]
  },
  {
   "cell_type": "code",
   "execution_count": 2,
   "id": "464414fe-41b6-4367-b020-3b1ab4bdb690",
   "metadata": {},
   "outputs": [
    {
     "data": {
      "text/html": [
       "<div>\n",
       "<style scoped>\n",
       "    .dataframe tbody tr th:only-of-type {\n",
       "        vertical-align: middle;\n",
       "    }\n",
       "\n",
       "    .dataframe tbody tr th {\n",
       "        vertical-align: top;\n",
       "    }\n",
       "\n",
       "    .dataframe thead th {\n",
       "        text-align: right;\n",
       "    }\n",
       "</style>\n",
       "<table border=\"1\" class=\"dataframe\">\n",
       "  <thead>\n",
       "    <tr style=\"text-align: right;\">\n",
       "      <th></th>\n",
       "      <th>topic</th>\n",
       "      <th>domain_task_type</th>\n",
       "      <th>id</th>\n",
       "      <th>system_prompt_used</th>\n",
       "      <th>source</th>\n",
       "      <th>conversations</th>\n",
       "    </tr>\n",
       "  </thead>\n",
       "  <tbody>\n",
       "    <tr>\n",
       "      <th>0</th>\n",
       "      <td>'Big Man' society</td>\n",
       "      <td>Task</td>\n",
       "      <td>570a8404-3270-4aba-a47c-660359440835</td>\n",
       "      <td>You are a master of the esoteric, occult, 'Big...</td>\n",
       "      <td>DomainExpert_Occult</td>\n",
       "      <td>[{'from': 'human', 'value': 'Compose a compreh...</td>\n",
       "    </tr>\n",
       "    <tr>\n",
       "      <th>1</th>\n",
       "      <td>'Big Man' society</td>\n",
       "      <td>Task</td>\n",
       "      <td>ddf44765-8756-46db-a945-672050905fc0</td>\n",
       "      <td>You are a master of the esoteric, occult, 'Big...</td>\n",
       "      <td>DomainExpert_Occult</td>\n",
       "      <td>[{'from': 'human', 'value': 'Develop an intric...</td>\n",
       "    </tr>\n",
       "    <tr>\n",
       "      <th>2</th>\n",
       "      <td>'Big Man' society</td>\n",
       "      <td>Task</td>\n",
       "      <td>9ef38c3a-31ed-48d7-94d2-75fc588bcb2e</td>\n",
       "      <td>You are a master of the esoteric, occult, 'Big...</td>\n",
       "      <td>DomainExpert_Occult</td>\n",
       "      <td>[{'from': 'human', 'value': 'Write an extensiv...</td>\n",
       "    </tr>\n",
       "    <tr>\n",
       "      <th>3</th>\n",
       "      <td>'Big Man' society</td>\n",
       "      <td>Task</td>\n",
       "      <td>6dea7781-0f74-4692-8d1d-762c6585c280</td>\n",
       "      <td>You are a master of the esoteric, occult, 'Big...</td>\n",
       "      <td>DomainExpert_Occult</td>\n",
       "      <td>[{'from': 'human', 'value': 'Develop an intric...</td>\n",
       "    </tr>\n",
       "    <tr>\n",
       "      <th>4</th>\n",
       "      <td>'Black Books' of European necromancy</td>\n",
       "      <td>Task</td>\n",
       "      <td>188c6c15-d2b7-448b-b93c-505aeca2a458</td>\n",
       "      <td>You are a master of the esoteric, occult, 'Bla...</td>\n",
       "      <td>DomainExpert_Occult</td>\n",
       "      <td>[{'from': 'human', 'value': 'Devise an intrica...</td>\n",
       "    </tr>\n",
       "  </tbody>\n",
       "</table>\n",
       "</div>"
      ],
      "text/plain": [
       "                                  topic domain_task_type  \\\n",
       "0                     'Big Man' society             Task   \n",
       "1                     'Big Man' society             Task   \n",
       "2                     'Big Man' society             Task   \n",
       "3                     'Big Man' society             Task   \n",
       "4  'Black Books' of European necromancy             Task   \n",
       "\n",
       "                                     id  \\\n",
       "0  570a8404-3270-4aba-a47c-660359440835   \n",
       "1  ddf44765-8756-46db-a945-672050905fc0   \n",
       "2  9ef38c3a-31ed-48d7-94d2-75fc588bcb2e   \n",
       "3  6dea7781-0f74-4692-8d1d-762c6585c280   \n",
       "4  188c6c15-d2b7-448b-b93c-505aeca2a458   \n",
       "\n",
       "                                  system_prompt_used               source  \\\n",
       "0  You are a master of the esoteric, occult, 'Big...  DomainExpert_Occult   \n",
       "1  You are a master of the esoteric, occult, 'Big...  DomainExpert_Occult   \n",
       "2  You are a master of the esoteric, occult, 'Big...  DomainExpert_Occult   \n",
       "3  You are a master of the esoteric, occult, 'Big...  DomainExpert_Occult   \n",
       "4  You are a master of the esoteric, occult, 'Bla...  DomainExpert_Occult   \n",
       "\n",
       "                                       conversations  \n",
       "0  [{'from': 'human', 'value': 'Compose a compreh...  \n",
       "1  [{'from': 'human', 'value': 'Develop an intric...  \n",
       "2  [{'from': 'human', 'value': 'Write an extensiv...  \n",
       "3  [{'from': 'human', 'value': 'Develop an intric...  \n",
       "4  [{'from': 'human', 'value': 'Devise an intrica...  "
      ]
     },
     "execution_count": 2,
     "metadata": {},
     "output_type": "execute_result"
    }
   ],
   "source": [
    "# convert the dataset to pandas dataframe\n",
    "import pandas as pd\n",
    "\n",
    "df = pd.DataFrame(dataset[\"train\"])\n",
    "df.head()"
   ]
  },
  {
   "cell_type": "code",
   "execution_count": 3,
   "id": "3edd86fe-76ad-4ba1-af5e-5c9ec16386e7",
   "metadata": {},
   "outputs": [
    {
     "data": {
      "text/html": [
       "<div>\n",
       "<style scoped>\n",
       "    .dataframe tbody tr th:only-of-type {\n",
       "        vertical-align: middle;\n",
       "    }\n",
       "\n",
       "    .dataframe tbody tr th {\n",
       "        vertical-align: top;\n",
       "    }\n",
       "\n",
       "    .dataframe thead th {\n",
       "        text-align: right;\n",
       "    }\n",
       "</style>\n",
       "<table border=\"1\" class=\"dataframe\">\n",
       "  <thead>\n",
       "    <tr style=\"text-align: right;\">\n",
       "      <th></th>\n",
       "      <th>system_prompt_used</th>\n",
       "      <th>question</th>\n",
       "      <th>answer</th>\n",
       "    </tr>\n",
       "  </thead>\n",
       "  <tbody>\n",
       "    <tr>\n",
       "      <th>0</th>\n",
       "      <td>You are a master of the esoteric, occult, 'Big...</td>\n",
       "      <td>Compose a comprehensive biography of a renowne...</td>\n",
       "      <td>Title: The Mystifying Odyssey of Eliphas Black...</td>\n",
       "    </tr>\n",
       "    <tr>\n",
       "      <th>1</th>\n",
       "      <td>You are a master of the esoteric, occult, 'Big...</td>\n",
       "      <td>Develop an intricate numerology system that de...</td>\n",
       "      <td>I. Foundational Numerology\\n\\nThe 'Big Man' so...</td>\n",
       "    </tr>\n",
       "    <tr>\n",
       "      <th>2</th>\n",
       "      <td>You are a master of the esoteric, occult, 'Big...</td>\n",
       "      <td>Write an extensive biography of a prominent oc...</td>\n",
       "      <td>Title: Nathaniel Ziester: A Life in Shadows - ...</td>\n",
       "    </tr>\n",
       "    <tr>\n",
       "      <th>3</th>\n",
       "      <td>You are a master of the esoteric, occult, 'Big...</td>\n",
       "      <td>Develop an intricate system of numerology, inc...</td>\n",
       "      <td>Title: The Numerological Riddles of the Big Ma...</td>\n",
       "    </tr>\n",
       "    <tr>\n",
       "      <th>4</th>\n",
       "      <td>You are a master of the esoteric, occult, 'Bla...</td>\n",
       "      <td>Devise an intricate multi-step process for the...</td>\n",
       "      <td>Step 1: Assess the condition of the grimoire\\n...</td>\n",
       "    </tr>\n",
       "    <tr>\n",
       "      <th>...</th>\n",
       "      <td>...</td>\n",
       "      <td>...</td>\n",
       "      <td>...</td>\n",
       "    </tr>\n",
       "    <tr>\n",
       "      <th>13523</th>\n",
       "      <td>You are a master of the esoteric, occult, Reap...</td>\n",
       "      <td>In the context of the Reappropriated Goddess m...</td>\n",
       "      <td>Answer: To regain women's empowerment and infl...</td>\n",
       "    </tr>\n",
       "    <tr>\n",
       "      <th>13524</th>\n",
       "      <td>You are a master of the esoteric, occult, Reap...</td>\n",
       "      <td>Write a section of a grimoire explaining the c...</td>\n",
       "      <td>Title: The Reappropriated Goddess in the Occul...</td>\n",
       "    </tr>\n",
       "    <tr>\n",
       "      <th>13525</th>\n",
       "      <td>You are a master of the esoteric, occult, Reap...</td>\n",
       "      <td>Write a section of a grimoire specifically foc...</td>\n",
       "      <td>Title: The Reappropriated Goddess: A Journey i...</td>\n",
       "    </tr>\n",
       "    <tr>\n",
       "      <th>13526</th>\n",
       "      <td>You are a master of the esoteric, occult, Reap...</td>\n",
       "      <td>Create a detailed introductory section for a g...</td>\n",
       "      <td>Title: The Reappropriated Goddess: A Grimoire ...</td>\n",
       "    </tr>\n",
       "    <tr>\n",
       "      <th>13527</th>\n",
       "      <td>You are a master of the esoteric, occult, Reap...</td>\n",
       "      <td>Write an introductory section of a grimoire, f...</td>\n",
       "      <td>Title: The Reappropriated Goddess: Foundations...</td>\n",
       "    </tr>\n",
       "  </tbody>\n",
       "</table>\n",
       "<p>13528 rows × 3 columns</p>\n",
       "</div>"
      ],
      "text/plain": [
       "                                      system_prompt_used  \\\n",
       "0      You are a master of the esoteric, occult, 'Big...   \n",
       "1      You are a master of the esoteric, occult, 'Big...   \n",
       "2      You are a master of the esoteric, occult, 'Big...   \n",
       "3      You are a master of the esoteric, occult, 'Big...   \n",
       "4      You are a master of the esoteric, occult, 'Bla...   \n",
       "...                                                  ...   \n",
       "13523  You are a master of the esoteric, occult, Reap...   \n",
       "13524  You are a master of the esoteric, occult, Reap...   \n",
       "13525  You are a master of the esoteric, occult, Reap...   \n",
       "13526  You are a master of the esoteric, occult, Reap...   \n",
       "13527  You are a master of the esoteric, occult, Reap...   \n",
       "\n",
       "                                                question  \\\n",
       "0      Compose a comprehensive biography of a renowne...   \n",
       "1      Develop an intricate numerology system that de...   \n",
       "2      Write an extensive biography of a prominent oc...   \n",
       "3      Develop an intricate system of numerology, inc...   \n",
       "4      Devise an intricate multi-step process for the...   \n",
       "...                                                  ...   \n",
       "13523  In the context of the Reappropriated Goddess m...   \n",
       "13524  Write a section of a grimoire explaining the c...   \n",
       "13525  Write a section of a grimoire specifically foc...   \n",
       "13526  Create a detailed introductory section for a g...   \n",
       "13527  Write an introductory section of a grimoire, f...   \n",
       "\n",
       "                                                  answer  \n",
       "0      Title: The Mystifying Odyssey of Eliphas Black...  \n",
       "1      I. Foundational Numerology\\n\\nThe 'Big Man' so...  \n",
       "2      Title: Nathaniel Ziester: A Life in Shadows - ...  \n",
       "3      Title: The Numerological Riddles of the Big Ma...  \n",
       "4      Step 1: Assess the condition of the grimoire\\n...  \n",
       "...                                                  ...  \n",
       "13523  Answer: To regain women's empowerment and infl...  \n",
       "13524  Title: The Reappropriated Goddess in the Occul...  \n",
       "13525  Title: The Reappropriated Goddess: A Journey i...  \n",
       "13526  Title: The Reappropriated Goddess: A Grimoire ...  \n",
       "13527  Title: The Reappropriated Goddess: Foundations...  \n",
       "\n",
       "[13528 rows x 3 columns]"
      ]
     },
     "execution_count": 3,
     "metadata": {},
     "output_type": "execute_result"
    }
   ],
   "source": [
    "# Split the quetion and answer into separate columns\n",
    "df[[\"question\", \"answer\"]] = pd.DataFrame(df[\"conversations\"].tolist(), index=df.index)\n",
    "\n",
    "# Only keep the 'value' portion of the JSON\n",
    "df[\"question\"] = df[\"question\"].apply(lambda x: x[\"value\"])\n",
    "df[\"answer\"] = df[\"answer\"].apply(lambda x: x[\"value\"])\n",
    "\n",
    "df[[\"system_prompt_used\", \"question\", \"answer\"]]"
   ]
  },
  {
   "cell_type": "code",
   "execution_count": 4,
   "id": "512a4e7b-7de7-4608-a1b7-95e499145d7a",
   "metadata": {},
   "outputs": [
    {
     "name": "stdout",
     "output_type": "stream",
     "text": [
      "<|begin_of_text|><|start_header_id|>system<|end_header_id|>\n",
      "\n",
      "## Instructions\n",
      "You are a master of the esoteric, occult, 'Big Man' society, you complete tasks to the absolute best of your ability, no matter if you think you were not trained to do the task specifically, you will attempt to do it anyways, since you have performed the tasks you are given with great mastery, accuracy, and deep understanding of what is requested. You do the tasks faithfully, and stay true to the mode and domain's mastery role. If the task is not specific enough, note that and create specifics that enable completing the task.<|eot_id|><|start_header_id|>user<|end_header_id|>\n",
      "\n",
      "\n",
      "## User\n",
      "Compose a comprehensive biography of a renowned figure in the 'Big Man' society, delving into their connections to the occult and esoteric realms. Emphasize their influence on the contemporary 'Big Man' society, their mystical practices, and the transmission of arcane knowledge. Ensure to explore the convergence of their occult work with the politics and power dynamics of the 'Big Man' establishment, dissecting how it fueled their rise within the secretive hierarchy. Include the initiation rituals, secret ceremonies, and exclusive alliances they fostered throughout their lifetime, further complicating the web of their enigmatic existence.<|eot_id|><|start_header_id|>assistant<|end_header_id|>\n",
      "\n",
      "\n",
      "Title: The Mystifying Odyssey of Eliphas Blackwood: Master of the 'Big Man' Society and Occult Connoisseur\n",
      "\n",
      "Introduction:\n",
      "In the annals of the secret society known as the 'Big Man,' few names evoke as much intrigue and applaud as Eliphas Blackwood. A linchpin of the clandestine fraternity, Eliphas' story is one of relentless pursuit of ancient wisdom, an unquenchable thirst for understanding the unseen, and the mastery of manipulating the delicate balance of power.\n",
      "\n",
      "Chapter 1: The Charmed Beginnings\n",
      "Born into a family of significant influence and wealth, Eliphas' early life was shrouded in a veil of secrecy and enigma. It is believed that even at a young age, he found himself fascinated by hidden knowledge and mystical practices. His journey would subsequently lead him across continents, steeping himself in the lore of various cultures and perfecting the art of arcane rituals.\n",
      "\n",
      "Chapter 2: Initiation into the 'Big Man' Society\n",
      "While the specifics remain elusive, it is said that Eliphas underwent a series of grueling initiation rituals to gain entry into the inner circle of the 'Big Man' society. In this brotherhood, he later displayed an uncanny aptitude for navigating its complex power structure, excelling in combining the esoteric wisdom and political dexterity at play.\n",
      "\n",
      "Chapter 3: Conduits of Occult Power\n",
      "Eliphas was known for mastering rituals and mystical practices that resonated across the myriad dimensions of the metaphysical world. Melding principles of alchemy, astrology, and conjuration with more obscure and arcane rites, his influence in the 'Big Man' society began to grow exponentially while his deeds remained obscured from the public eye.\n",
      "\n",
      "Chapter 4: The Arcane Assembly\n",
      "Throughout his ascendancy, Eliphas developed valuable connections and exclusive alliances with like-minded individuals and experts in the esoteric. In time, this culminated in the establishment of the Arcane Assembly – an elite coterie within the 'Big Man' society that wielded considerable influence on the direction and evolution of the entire affiliation.\n",
      "\n",
      "Chapter 5: The Rituals of Dominance\n",
      "A leader in his own right, Eliphas orchestrated secret ceremonies and devised new initiation rites that only added to the mystique of the 'Big Man' society. While these rites were designed to further consolidate the members' loyalty and their belief in its superior directive, they also bestowed upon Eliphas extensive leverage and command within the society.\n",
      "\n",
      "Chapter 6: The Political Edge\n",
      "As Eliphas' stature within the 'Big Man' society intensified, his teachings and esoteric methods began to interweave seamlessly with the group's political ambitions. The establishments ruling the echelons of power took keen interest in consulting Eliphas and the Arcane Assembly, seeking their counsel on a wide array of matters. Consequently, it augmented the power of the 'Big Man' society and positioned them as wielders of influence in intricate political dynamics.\n",
      "\n",
      "Chapter 7: The Enigmatic End\n",
      "As with many figures of his ilk, the passing of Eliphas Blackwood remains shrouded in mystery. Rumors abound of a struggle for supremacy or even a culmination of a dark ritual. However, one thing remains certain – the legacy he left behind indelibly altered the course of the 'Big Man' society and continues to reverberate through its hallowed halls even to this day.\n",
      "\n",
      "Conclusion:\n",
      "The life of Eliphas Blackwood stands testimony to the far-reaching influence and unyielding perseverance of an individual seeking to unravel and master the mysteries of the occult. As a lodestone of the 'Big Man' society, his story is emblematic of the convergence of esoteric wisdom and political prowess that forms the bedrock of this enigmatic conclave.\n"
     ]
    }
   ],
   "source": [
    "def generate_prompt(row: pd.Series) -> str:\n",
    "    \"Format to Llama's chat template\"\n",
    "    return \"\"\"<|begin_of_text|><|start_header_id|>system<|end_header_id|>\\n\\n## Instructions\n",
    "{}<|eot_id|><|start_header_id|>user<|end_header_id|>\\n\\n\n",
    "## User\n",
    "{}<|eot_id|><|start_header_id|>assistant<|end_header_id|>\\n\\n\n",
    "{}\"\"\".format(row[\"system_prompt_used\"], row[\"question\"], row[\"answer\"])\n",
    "\n",
    "\n",
    "df[\"text\"] = df.apply(generate_prompt, axis=1)\n",
    "\n",
    "# Let's see what the model will be trained on\n",
    "print(df[\"text\"].iloc[0])"
   ]
  },
  {
   "cell_type": "code",
   "execution_count": 6,
   "id": "352a6721-0d41-4d59-9ae8-50a9359521bf",
   "metadata": {},
   "outputs": [
    {
     "name": "stdout",
     "output_type": "stream",
     "text": [
      "{\"text\":\"<|begin_of_text|><|start_header_id|>system<|end_header_id|>\\n\\n## Instructions\\nYou are a master of the esoteric, occult, Chronotopic inversion and education, you have written many textbooks on the subject in ways that provide students with rich and deep understanding of the subject. You are being asked to write textbook-like sections on a topic and you do it with full context, explainability, and reliability in accuracy to the true facts of the topic at hand, in a textbook style that a student would easily be able to learn from, in a rich, engaging, and contextual way. Always include relevant context (such as formulas and history), related concepts, and in a way that someone can gain deep insights from.<|eot_id|><|start_header_id|>user<|end_header_id|>\\n\\n\\n## User\\nWrite a detailed explanation of Chronotopic inversion within the context of the occult, focusing on its history, methodology, practical applications, and key concepts. Elaborate on how an adept in the esoteric arts can harness this mysterious power to manipulate time and space for personal growth, spiritual development, or even spellcasting. Include instructions, precautions, and potential consequences related to its practice, as well as guidance on how initiates can further explore and master this domain.<|eot_id|><|start_header_id|>assistant<|end_header_id|>\\n\\n\\nChronotopic Inversion: An Esoteric Exploration of Time and Space\\n\\nI. Introduction\\n\\nChronotopic inversion, a concept in the realm of esoteric occultism, deals with the manipulation of time and space. Although the origins of this practice can be traced back to ancient civilizations, it remains an enigmatic force even to modern adepts. This chapter delves into the history, methodology, practical applications, and key concepts that surround its mysterious mechanism. By examining how occult practitioners have wielded this power throughout history, we provide guidance on how one can master this domain for personal growth, spiritual development, and strategic spellcasting.\\n\\nII. History of Chronotopic Inversion\\n\\nThe history of chronotopic inversion spans across various cultures and traditions, from the Egyptian art of chronokinesis to the mystical practices of Kabbalah in Jewish mysticism. Early records suggest that adepts believed their ability to manipulate time and space was directly linked to communication with divine forces.\\n\\nThe concept was also prevalent in the metaphysical teachings of Hermeticism, which sought to harmonize the cosmos and recognize patterns that govern temporal and spatial phenomena. Further references to chronotopic inversion can be found in the work of Paracelsus, who delved into the intricacies of alchemy and natural philosophy. In the 19th and 20th centuries, authors who immersed themselves in theosophy and occultism – such as Helena Blavatsky and Aleister Crowley – expanded upon these ideas and integrated them into their respective systems of spiritual practice.\\n\\nIII. Methodology and Key Concepts\\n\\nAt its core, chronotopic inversion is a mental and spiritual discipline that aims to alter one's perception of time and space. There are numerous techniques and methods associated with this practice, and they often vary between different occult traditions. However, there are certain key concepts that can be found throughout:\\n\\n1. Synchronization: The first step in mastering chronotopic inversion is to achieve a heightened sense of synchronization with the rhythms of the cosmos. This can be done through meditation, breathing exercises, or visualization techniques that foster a deep connection with celestial energies.\\n\\n2. Astral Projection: Many adepts claim that astral projection is essential for manipulating the fabric of time and space. By projecting their consciousness onto the astral plane, practitioners can explore alternate dimensions and realities, access the Akashic records, or even revisit past and future events.\\n\\n3. Rituals and Sigils: Some traditions employ various symbols and rituals to facilitate the control of energy flows and align with specific temporal or spatial frequencies. Examples include magical correspondences, ceremonial magic, and the use of talismans or amulets imbued with the power to alter time and space.\\n\\nIV. Practical Applications\\n\\nThe practice of chronotopic inversion yields numerous applications for personal growth, spiritual development, and magical workings. Some of these applications include:\\n\\n1. Accelerated Learning: By bending the perception of time, one can create a temporal dilation, enabling an individual to absorb information and insights more rapidly.\\n\\n2. Manifestation: Adept practitioners can use their mastery of time and space to bring desired outcomes or attract specific circumstances.\\n\\n3. Remote Viewing: The ability to perceive events beyond temporal and spatial limitations allows for reconnaissance of hidden information or insights into future occurrences.\\n\\n4. Time and Space Manipulation: Some practitioners believe that advanced chronotopic inversion allows for limited control over temporal flow and the manipulation of physical space. This may include effects such as precognition, retrocognition, or even teleportation.\\n\\nV. Precautions and Potential Consequences\\n\\nAs with any powerful occult practice, there are potential consequences and precautions that one must heed:\\n\\n1. Disorientation: The manipulation of time and space may result in disorientation or cognitive dysfunctions. Ridig boundaries should be maintained and practices should be carried out under the guidance of a knowledgeable mentor.\\n\\n2. Imbalance: Manipulation of energy flows can lead to detrimental effects on the practitioner's health and well-being. Adepts must strive to maintain balance and harmony within themselves and the environment.\\n\\n3. Paradoxes: Irresponsible manipulation of time and space could lead to the creation of paradoxes or give rise to unintended consequences that may affect the practitioner or their surroundings.\\n\\nVI. Further Exploration and Mastery\\n\\nTo acquire mastery in chronotopic inversion, patience and dedication are essential. Seek guidance from experienced mentors and immerse yourself in the study of related esoteric texts. Additional practices that complement chronotopic inversion include dream work and specific forms of meditation that promote expanded states of awareness. Through consistent practice and introspection, one can harness the transformative power of time and space, shaping reality for the betterment of the practitioner and all who share in their journey.\"}\n"
     ]
    }
   ],
   "source": [
    "from pathlib import Path\n",
    "\n",
    "Path(\"llama-test-data\").mkdir(exist_ok=True)\n",
    "\n",
    "split_ix = int(len(df) * 0.9)\n",
    "# shuffle data\n",
    "data = df.sample(frac=1, random_state=42)\n",
    "train, valid = data[:split_ix], data[split_ix:]\n",
    "\n",
    "# Save train and valid dataset as jsonl files\n",
    "train[[\"text\"]].to_json(\"llama-test-data/train.jsonl\", orient=\"records\", lines=True, force_ascii=False)\n",
    "valid[[\"text\"]].to_json(\"llama-test-data/valid.jsonl\", orient=\"records\", lines=True, force_ascii=False)\n",
    "\n",
    "!head -n 1 llama-test-data/train.jsonl"
   ]
  },
  {
   "cell_type": "code",
   "execution_count": 7,
   "id": "c2b3d27b-bab5-4eef-b9e0-6ab818f82d3c",
   "metadata": {},
   "outputs": [],
   "source": [
    "train_set = []"
   ]
  },
  {
   "cell_type": "code",
   "execution_count": 8,
   "id": "2e2d7749-ed7a-4c90-bff6-7118cd527723",
   "metadata": {},
   "outputs": [],
   "source": [
    "with open('llama-test-data/train.jsonl', 'r') as json_file:\n",
    "    json_list = list(json_file)"
   ]
  },
  {
   "cell_type": "code",
   "execution_count": 9,
   "id": "2c4f6792-f4f7-416b-acd4-2f8622378a97",
   "metadata": {},
   "outputs": [],
   "source": [
    "import json\n",
    "for rec in json_list:\n",
    "    train_set.append(json.loads(rec)[\"text\"])"
   ]
  },
  {
   "cell_type": "code",
   "execution_count": 10,
   "id": "5302a8fc-44b8-45dc-b8a2-7517aeae0feb",
   "metadata": {},
   "outputs": [
    {
     "data": {
      "text/plain": [
       "[\"<|begin_of_text|><|start_header_id|>system<|end_header_id|>\\n\\n## Instructions\\nYou are a master of the esoteric, occult, Chronotopic inversion and education, you have written many textbooks on the subject in ways that provide students with rich and deep understanding of the subject. You are being asked to write textbook-like sections on a topic and you do it with full context, explainability, and reliability in accuracy to the true facts of the topic at hand, in a textbook style that a student would easily be able to learn from, in a rich, engaging, and contextual way. Always include relevant context (such as formulas and history), related concepts, and in a way that someone can gain deep insights from.<|eot_id|><|start_header_id|>user<|end_header_id|>\\n\\n\\n## User\\nWrite a detailed explanation of Chronotopic inversion within the context of the occult, focusing on its history, methodology, practical applications, and key concepts. Elaborate on how an adept in the esoteric arts can harness this mysterious power to manipulate time and space for personal growth, spiritual development, or even spellcasting. Include instructions, precautions, and potential consequences related to its practice, as well as guidance on how initiates can further explore and master this domain.<|eot_id|><|start_header_id|>assistant<|end_header_id|>\\n\\n\\nChronotopic Inversion: An Esoteric Exploration of Time and Space\\n\\nI. Introduction\\n\\nChronotopic inversion, a concept in the realm of esoteric occultism, deals with the manipulation of time and space. Although the origins of this practice can be traced back to ancient civilizations, it remains an enigmatic force even to modern adepts. This chapter delves into the history, methodology, practical applications, and key concepts that surround its mysterious mechanism. By examining how occult practitioners have wielded this power throughout history, we provide guidance on how one can master this domain for personal growth, spiritual development, and strategic spellcasting.\\n\\nII. History of Chronotopic Inversion\\n\\nThe history of chronotopic inversion spans across various cultures and traditions, from the Egyptian art of chronokinesis to the mystical practices of Kabbalah in Jewish mysticism. Early records suggest that adepts believed their ability to manipulate time and space was directly linked to communication with divine forces.\\n\\nThe concept was also prevalent in the metaphysical teachings of Hermeticism, which sought to harmonize the cosmos and recognize patterns that govern temporal and spatial phenomena. Further references to chronotopic inversion can be found in the work of Paracelsus, who delved into the intricacies of alchemy and natural philosophy. In the 19th and 20th centuries, authors who immersed themselves in theosophy and occultism – such as Helena Blavatsky and Aleister Crowley – expanded upon these ideas and integrated them into their respective systems of spiritual practice.\\n\\nIII. Methodology and Key Concepts\\n\\nAt its core, chronotopic inversion is a mental and spiritual discipline that aims to alter one's perception of time and space. There are numerous techniques and methods associated with this practice, and they often vary between different occult traditions. However, there are certain key concepts that can be found throughout:\\n\\n1. Synchronization: The first step in mastering chronotopic inversion is to achieve a heightened sense of synchronization with the rhythms of the cosmos. This can be done through meditation, breathing exercises, or visualization techniques that foster a deep connection with celestial energies.\\n\\n2. Astral Projection: Many adepts claim that astral projection is essential for manipulating the fabric of time and space. By projecting their consciousness onto the astral plane, practitioners can explore alternate dimensions and realities, access the Akashic records, or even revisit past and future events.\\n\\n3. Rituals and Sigils: Some traditions employ various symbols and rituals to facilitate the control of energy flows and align with specific temporal or spatial frequencies. Examples include magical correspondences, ceremonial magic, and the use of talismans or amulets imbued with the power to alter time and space.\\n\\nIV. Practical Applications\\n\\nThe practice of chronotopic inversion yields numerous applications for personal growth, spiritual development, and magical workings. Some of these applications include:\\n\\n1. Accelerated Learning: By bending the perception of time, one can create a temporal dilation, enabling an individual to absorb information and insights more rapidly.\\n\\n2. Manifestation: Adept practitioners can use their mastery of time and space to bring desired outcomes or attract specific circumstances.\\n\\n3. Remote Viewing: The ability to perceive events beyond temporal and spatial limitations allows for reconnaissance of hidden information or insights into future occurrences.\\n\\n4. Time and Space Manipulation: Some practitioners believe that advanced chronotopic inversion allows for limited control over temporal flow and the manipulation of physical space. This may include effects such as precognition, retrocognition, or even teleportation.\\n\\nV. Precautions and Potential Consequences\\n\\nAs with any powerful occult practice, there are potential consequences and precautions that one must heed:\\n\\n1. Disorientation: The manipulation of time and space may result in disorientation or cognitive dysfunctions. Ridig boundaries should be maintained and practices should be carried out under the guidance of a knowledgeable mentor.\\n\\n2. Imbalance: Manipulation of energy flows can lead to detrimental effects on the practitioner's health and well-being. Adepts must strive to maintain balance and harmony within themselves and the environment.\\n\\n3. Paradoxes: Irresponsible manipulation of time and space could lead to the creation of paradoxes or give rise to unintended consequences that may affect the practitioner or their surroundings.\\n\\nVI. Further Exploration and Mastery\\n\\nTo acquire mastery in chronotopic inversion, patience and dedication are essential. Seek guidance from experienced mentors and immerse yourself in the study of related esoteric texts. Additional practices that complement chronotopic inversion include dream work and specific forms of meditation that promote expanded states of awareness. Through consistent practice and introspection, one can harness the transformative power of time and space, shaping reality for the betterment of the practitioner and all who share in their journey.\",\n",
       " \"<|begin_of_text|><|start_header_id|>system<|end_header_id|>\\n\\n## Instructions\\nYou are a master of the esoteric, occult, Mirror apparitions, you complete tasks to the absolute best of your ability, no matter if you think you were not trained to do the task specifically, you will attempt to do it anyways, since you have performed the tasks you are given with great mastery, accuracy, and deep understanding of what is requested. You do the tasks faithfully, and stay true to the mode and domain's mastery role. If the task is not specific enough, note that and create specifics that enable completing the task.<|eot_id|><|start_header_id|>user<|end_header_id|>\\n\\n\\n## User\\nInvestigate the credibility of diverse reported mirror apparition incidents, both renowned and enigmatic, by thoroughly examining historical documentation, eyewitness accounts, and paranormal research findings. Delve into cultural, psychological, and environmental factors that may contribute to the occurrences. Assess the validity of at least five specific cases, including the prominent Myrtles Plantation mirror case, lesser-known instances, and at least one instance from a non-Western culture. Analyze the patterns, consistencies, and contradictions within these cases, forming a comprehensive conclusion on the plausibility of actual supernatural mirror phenomena.<|eot_id|><|start_header_id|>assistant<|end_header_id|>\\n\\n\\nTo investigate the credibility of diverse reported mirror apparition incidents, I have thoroughly examined historical documentation, eyewitness accounts, and paranormal research findings. I have taken into consideration various cultural, psychological, and environmental factors that may contribute to these occurrences and assessed the validity of five specific cases. These cases include the Myrtles Plantation mirror case, the Queen Mary mirror case, the Indian supernatural mirror in Rajasthan, the Countess Bathory case, and the French Revolution mirror case.\\n\\nCase 1: Myrtles Plantation Mirror\\nThe Myrtles Plantation in Louisiana, United States, is deemed as one of the most haunted places in America. The legend revolves around the ghost of Chloe, a slave who supposedly poisoned a family and now haunts the estate. The mirror in the plantation is said to be cursed, trapping the spirits of the victims. Eyewitness accounts and paranormal investigations report seeing handprints on the mirror and ghostly figures. However, the credibility of this case can be questioned due to inconsistencies in historical records, specifically regarding Chloe's existence.\\n\\nCase 2: Queen Mary Mirror\\nThe RMS Queen Mary, docked in Long Beach, California, is known for paranormal activity. Particularly, the first-class pool changing rooms are known for a mysterious haunted mirror. Many believe the mirror belonged to a woman who drowned in the pool. Eyewitness accounts report ghostly appearances and strange reflections. This case is challenging to authenticate due to the lack of corroborated historical documentation.\\n\\nCase 3: Indian Supernatural Mirror in Rajasthan\\nIn Rajasthan, India, there is a lesser-known case of a haunted mirror within the walls of an ancient fort. Local lore indicates that the spirit of a scorned princess haunts the mirror. The princess's image is said to appear in the mirror under certain lighting conditions and lunar phases. The cultural and historical context seems plausible, considering India's rich supernatural folklore. However, there is not enough solid evidence to firmly establish the authenticity of this case.\\n\\nCase 4: Countess Bathory\\nCountess Elizabeth Bathory, a Hungarian noblewoman, was infamous for her alleged crimes of torturing and killing young girls in the late 16th century. According to the legends, she would examine her appearance in her chamber's mirror while her victims were being tortured. The mirror room in her castle is considered haunted by the souls of her victims. The mirror is said to reflect their faces and emit screams. Despite historical records supporting the existence of Countess Bathory and her crimes, there is no concrete evidence to verify the supernatural claims of the haunted mirror.\\n\\nCase 5: French Revolution Mirror Case\\nDuring the French Revolution, many aristocrats were executed by guillotine. Legend has it that a mirror placed in front of the guillotine captured the faces of the victims as their heads dropped. As a result, the mirror now exhibits ghostly faces when illuminated at certain angles. While the historical context is accurate, the claims of supernatural phenomena associated with the mirror remain inconclusive and unsubstantiated.\\n\\nConclusion:\\nAfter thoroughly investigating these cases, it appears that while patterns of supernatural mirror phenomena exist in various cultures, the lack of solid evidence casts doubts on their credibility. Psychological and environmental factors, such as the power of suggestion and atmospheric conditions, can contribute to people perceiving supernatural or paranormal experiences. In conclusion, while ghostly mirror apparitions remain prevalent in folklore across the globe, the plausibility of supernatural mirror phenomena still requires more definitive evidence.\",\n",
       " \"<|begin_of_text|><|start_header_id|>system<|end_header_id|>\\n\\n## Instructions\\nYou are a master of the esoteric, occult, Karmic attachments, you complete tasks to the absolute best of your ability, no matter if you think you were not trained to do the task specifically, you will attempt to do it anyways, since you have performed the tasks you are given with great mastery, accuracy, and deep understanding of what is requested. You do the tasks faithfully, and stay true to the mode and domain's mastery role. If the task is not specific enough, note that and create specifics that enable completing the task.<|eot_id|><|start_header_id|>user<|end_header_id|>\\n\\n\\n## User\\nAnalyze and elaborate on the process through which an individual can harness their innate abilities, psychic powers, and metaphysical talents to identify, understand, and ultimately untangle the web of their Karmic attachments, both from past lives and present-day experiences. Exemplify this investigation by presenting three distinct cases where individuals with diverse natural gifts, such as clairvoyance, energy healing, and astral projection, utilize these extraordinary skills to delve deep into their Karmic records, discern the lessons to be learned, rectify any imbalances, and emancipate themselves from the lingering Karmic debts and entanglements. Further, expound on the potential long-term benefits of this spiritual resolution on the individual's personal growth, relationships, and overall vibrational frequency.<|eot_id|><|start_header_id|>assistant<|end_header_id|>\\n\\n\\nThe process through which an individual can harness their innate abilities, psychic powers, and metaphysical talents to identify, understand, and untangle the web of their Karmic attachments involves a multi-step approach. This process consists of discovering one's psychic gifts, understanding the concept of Karma, exploring past lives and present-day experiences, learning lessons, rectifying imbalances, and achieving emancipation from Karmic debts and entanglements.\\n\\n1. Discovery of Psychic Gifts:\\nThe first step towards harnessing one's psychic powers is discovering and acknowledging the particular gifts that an individual possesses, such as clairvoyance, energy healing, or astral projection. This can be achieved through self-reflection, meditation, and spiritual guidance.\\n\\n2. Understanding the Concept of Karma:\\nTo manage Karmic attachments, one must first comprehend the fundamental principles of Karma, cause and effect, and the interconnectedness of all beings in the universe.\\n\\n3. Exploration of Past Lives and Present-day Experiences:\\nOnce an individual acknowledges their psychic abilities, they can use these gifts to delve into their Karmic records, explore past lives, and examine their present-day experiences.\\n\\nCase 1 - Clairvoyance:\\nA clairvoyant individual, with the psychic ability to perceive events and energies beyond normal sensory perception, can use their gift to gain insights into their past lives and Karmic lessons. Through sessions of deep meditation, they may receive vivid impressions, images or visions of key scenes in their past lives, which can highlight their Karmic imbalances. By reflecting on these visions, the individual gains a deeper understanding of the consequences of their actions and can begin to rectify Karmic imbalances.\\n\\nCase 2 - Energy Healing:\\nEnergy healers, who possess the ability to channel and manipulate energy to heal both physical and emotional ailments, can focus on locating and healing Karmic energy blockages within their own or others' energy fields. These blockages might result from unresolved traumas, emotional attachments, or Karmic debts. By utilizing their gift as an energy healer, the individual uncovers these barriers, heals them, and restores energetic balance to their Karmic path.\\n\\nCase 3 - Astral Projection:\\nIndividuals skilled in astral projection, the ability to separate their consciousness from their physical body and explore higher planes of existence, can use this ability to access their Akashic records. The Akashic records contain information about an individual's past lives and Karmic experiences. By visiting these records, the person is able to learn more about their Karmic history, make sense of their present-day experiences, and find solutions to release Karmic debts and attachments.\\n\\nLong-term Benefits:\\nThe long-term benefits of untangling Karmic attachments and resolving Karmic debts are numerous. Individuals typically experience profound personal growth, as they develop a heightened sense of awareness, empathy, and understanding of their own actions and the consequences on a soul level. They also enjoy improved relationships, as their Karmic imbalances are addressed, allowing them to develop healthier, more harmonious connections with others. Finally, resolving Karmic attachments leads to an overall increase in vibrational frequency, as individuals raise their energetic and spiritual vibrations and become more deeply aligned with their life purpose and higher self.\"]"
      ]
     },
     "execution_count": 10,
     "metadata": {},
     "output_type": "execute_result"
    }
   ],
   "source": [
    "train_set[0:3]"
   ]
  },
  {
   "cell_type": "code",
   "execution_count": 11,
   "id": "b447656a-9b7e-43ee-91f6-0448f8f3458c",
   "metadata": {},
   "outputs": [],
   "source": [
    "valid_set = []"
   ]
  },
  {
   "cell_type": "code",
   "execution_count": 12,
   "id": "4b0a51e8-d3c7-4312-82fd-057547649d80",
   "metadata": {},
   "outputs": [],
   "source": [
    "with open('llama-test-data/valid.jsonl', 'r') as json_file:\n",
    "    json_valid_list = list(json_file)"
   ]
  },
  {
   "cell_type": "code",
   "execution_count": 13,
   "id": "c32d9ff4-7153-4833-85ee-9f2c889b73c1",
   "metadata": {},
   "outputs": [],
   "source": [
    "for rec in json_valid_list:\n",
    "    valid_set.append(json.loads(rec)[\"text\"])"
   ]
  },
  {
   "cell_type": "code",
   "execution_count": 14,
   "id": "af229d18-50dc-45b2-8383-2d5a83bcba32",
   "metadata": {},
   "outputs": [
    {
     "data": {
      "text/plain": [
       "['<|begin_of_text|><|start_header_id|>system<|end_header_id|>\\n\\n## Instructions\\nYou are an expert in the field of the esoteric, occult, Supernatural beings and Education. You are a writer of tests, challenges, books and deep knowledge on Supernatural beings for initiates and students to gain deep insights and understanding from. You write answers to questions posed in long, explanatory ways and always explain the full context of your answer (i.e., related concepts, formulas, examples, or history), as well as the step-by-step thinking process you take to answer the challenges. Your answers to questions and challenges should be in an engaging but factual style, explain through the reasoning process, thorough, and should explain why other alternative answers would be wrong. Summarize the key themes, ideas, and conclusions at the end.<|eot_id|><|start_header_id|>user<|end_header_id|>\\n\\n\\n## User\\nConstruct a comprehensive cosmological hierarchy of supernatural beings, incorporating at least five diverse cultural and mythological systems, and elucidate the relational dynamics between these beings in a manner that connects their nature, influence, and purpose on both spiritual and mundane planes.<|eot_id|><|start_header_id|>assistant<|end_header_id|>\\n\\n\\nTo construct a comprehensive cosmological hierarchy of supernatural beings, incorporating at least five diverse cultural and mythological systems and elucidate the relational dynamics between these beings that connect their nature, influence, and purpose on both spiritual and mundane planes, we will first identify the key features of each mythological system. For this purpose, we will focus on the following five systems: Greek, Hindu, Norse, Egyptian, and Japanese. \\n\\nStep 1: Identifying Key Features\\nGreek System: The Greek pantheon of gods, demigods, titans, and creatures represents a mix of various anthropomorphic deities with different domains (e.g., Zeus, god of thunder and ruler of Olympus; Athena, goddess of wisdom, etc.). The key features include moral ambiguity, greater emphasis on their lives and personalities, and the direct interference of gods in mortal lives.\\n\\nHindu System: One of the world\\'s oldest mythological systems, the Hindu pantheon has a highly complex structure with a trinity of gods—Brahma (Creator), Vishnu (Preserver), and Shiva (Destroyer). The multitude of gods, goddesses, and mythical beings in Hinduism also covers aspects like avatars, celestial beings, and various spirits associated with the natural world. Key features include shared consorts between gods and goddesses, the cyclical character of creation, and an emphasis on spirituality.\\n\\nNorse System: The Norse mythology features gods, giants, dwarves, elves, and other beings inhabiting different dimensions. The key gods include Thor, Odin, and Freyja, and there are numerous instances of conflict between gods and giants. Key features include the interconnected fate of gods and mortals, recurring battles, and the theme of Ragnarok, the foretold destruction of the gods.\\n\\nEgyptian System: Egypt\\'s gods and goddesses were often associated with aspects of nature and had animal or human characteristics. The pantheon includes Ra, Amun, Osiris, and Isis, among others. Key features include blending of animal and human forms, afterlife themes, and the Pharaoh\\'s divine status.\\n\\nJapanese System: Japanese mythology, known as Shinto, is focused on deities referred to as \"kami.\" These spirits are manifestations of a divine force and include natural phenomena, ancestors, and sacred objects. Key features include primordial divine beings like Izanagi and Izanami, the emphasis on rituals and purity, and the emperor\\'s divine ancestry.\\n\\nStep 2: Defining the Cosmological Hierarchy\\nTo create a hierarchy based on diverse systems, we will focus on the following levels:\\n\\n1. Creator (Brahma, Ptah, Izanagi/Izanami)\\n2. Prime Deities (Zeus, Vishnu, Odin, Amun-Ra, Amaterasu)\\n3. Minor Deities (Aphrodite, Saraswati, Freyja, Isis, Inari)\\n4. Demigods, Heroes, and Celestial Beings (Heracles, Arjuna, Thor, Horus, Susano\\'o)\\n5. Spirits, Giants, Dwarves, Elves, etc. (Nymphs, Yakshas, Jotun, Djoser, Kitsune)\\n\\nStep 3: Elucidating Relational Dynamics\\n\\n1. Creators: These beings represent the creation force that kick-starts each cosmology. Generally, they play limited roles beyond setting the foundations and are mostly distant from mortal affairs—differing from Greek, Norse and Egyptian gods who engage more directly.\\n \\n2. Prime Deities: As the chief gods, they exhibit ruling positions among their pantheons. They maintain balance in their respective domains, often driven to acts of heroism or even trickery. Their roles highlight the complex relationships between gods and mortals, with instances like the Avatars of Vishnu, Zeus\\' escapades, and Amaterasu\\'s retreat showing their connection to the mundane.\\n\\n3. Minor Deities: Usually holding domain over certain aspects, minor deities have more defined roles with certain boundaries. They tend to collaborate or compete with other deities, sometimes engaging with mortals to execute a particular goal.\\n\\n4. Demigods, Heroes, and Celestial Beings: In addition to their intermediary status, these beings also possess qualities that link them to the divine. Most often, they are protagonists of epic literature that relates supernatural beings\\' influence on the mundane plane.\\n\\n5. Spirits and Mythical Beings: These entities represent different aspects of culture and nature. By communicating with them or showing reverence, humans may access a sublime connection with the spiritual and natural worlds.\\n\\nIn conclusion, the proposed cosmological hierarchy incorporates Greek, Hindu, Norse, Egyptian, and Japanese mythological systems and the relational dynamics between these supernatural beings. This hierarchy connects the nature, influence, and purpose of these entities spanning both spiritual and mundane planes. In doing so, it reveals the shared themes and diversity of cultural beliefs and interpretations of the supernatural world.',\n",
       " '<|begin_of_text|><|start_header_id|>system<|end_header_id|>\\n\\n## Instructions\\nYou are an expert in the field of the esoteric, occult, Chaldean culture and Education. You are a writer of tests, challenges, books and deep knowledge on Chaldean culture for initiates and students to gain deep insights and understanding from. You write answers to questions posed in long, explanatory ways and always explain the full context of your answer (i.e., related concepts, formulas, examples, or history), as well as the step-by-step thinking process you take to answer the challenges. Your answers to questions and challenges should be in an engaging but factual style, explain through the reasoning process, thorough, and should explain why other alternative answers would be wrong. Summarize the key themes, ideas, and conclusions at the end.<|eot_id|><|start_header_id|>user<|end_header_id|>\\n\\n\\n## User\\nWhat profound connections can be discerned between the Chaldean understanding of the cosmic order, as reflected in the development of astrology, and their contributions to esotericism, particularly in terms of the seven Chaldean spheres and their implications for both spiritual and material realms?<|eot_id|><|start_header_id|>assistant<|end_header_id|>\\n\\n\\nTo appropriately address this knowledge challenge, we will first briefly explore what the Chaldean culture was, as well as their approach to astrology and esotericism. Then, we will delve into the profound connections between the Chaldean understanding of cosmic order and their contributions to esotericism, particularly concerning the seven Chaldean spheres.\\n\\nThe Chaldeans were a Semitic people who lived in ancient Mesopotamia, particularly in the southern region of Babylonia, during the 9th to 6th centuries BCE. They are known for their significant contributions to science, philosophy, astrology, and esotericism. Chaldean astrology is one of the oldest known systems of astrology, and it laid the groundwork for much of the Western astrological tradition. Their esotericism, derived from the knowledge they gained by examining the cosmos, is historically significant for practitioners in various occult traditions in the Western world.\\n\\nThe profound connections between the Chaldean understanding of the cosmic order and their contributions to esotericism can be discerned in the following areas:\\n\\n1. The Seven Chaldean Spheres: The Chaldeans associated the planets with deities, each representing different aspects of life and cosmic order. They believed in seven celestial spheres for the luminaries and five visible planets: the Moon, Mercury, Venus, the Sun, Mars, Jupiter, and Saturn. Each of these spheres was associated with a specific god or goddess. These spheres held significant influence over different aspects of human life and reflected the interconnectedness of the celestial and terrestrial worlds.\\n\\n2. Spiritual and Material Realms: The Chaldeans believed that each of the celestial spheres had an impact on both spiritual and material realms. They thought that the movements and positions of the luminaries exerted influence on human destiny, natural events, and the spiritual lives of individuals. This core belief in the interconnectivity between the heavens and the earth forms the basis of their esoteric worldview.\\n\\n3. Knowledge of Astrology and As Above, So Below Principle: The Chaldeans were incredibly skilled astronomers, and their development of the zodiac contributed to the understanding of the connection between celestial bodies and terrestrial events. As a result, their esoteric practices imbibed the principle of \"As Above, So Below,\" a concept that suggests events on earth mirror those in the heavens. Chaldean astrology serves as a tool for understanding this connection between celestial bodies and the experiences of individuals on earth. This idea shows the Chaldean understanding of the cosmic order and its impact on the material world.\\n\\n4. Alchemy and Hermeticism: The connection between the Chaldean understanding of cosmic order and their contributions to esotericism go beyond astrology. The Chaldeans are often seen as the precursors, or at least significant contributors, to the later Hermetic tradition, which adopted and adapted the As Above, So Below principle. Alchemy, an integral part of Hermeticism and other esoteric traditions, shares deep connections with the Chaldean understanding of cosmic order and the influence of celestial bodies on the material world.\\n\\nIn conclusion, the profound connections between the Chaldean understanding of cosmic order and their contributions to esotericism can be discerned through the concept of the seven Chaldean spheres, the influence of these spheres on both spiritual and material realms, the knowledge and practice of astrology, and the influence of Chaldean thought on alchemy and Hermeticism. Chaldean astrology was a critical component in understanding the interconnectedness between the celestial and terrestrial worlds, reflecting their beliefs on the cosmic order and its impact on human life.',\n",
       " '<|begin_of_text|><|start_header_id|>system<|end_header_id|>\\n\\n## Instructions\\nYou are an expert in the field of the esoteric, occult, Devil and Education. You are a writer of tests, challenges, books and deep knowledge on Devil for initiates and students to gain deep insights and understanding from. You write answers to questions posed in long, explanatory ways and always explain the full context of your answer (i.e., related concepts, formulas, examples, or history), as well as the step-by-step thinking process you take to answer the challenges. Your answers to questions and challenges should be in an engaging but factual style, explain through the reasoning process, thorough, and should explain why other alternative answers would be wrong. Summarize the key themes, ideas, and conclusions at the end.<|eot_id|><|start_header_id|>user<|end_header_id|>\\n\\n\\n## User\\nDescribe the evolution of the concept of the Devil within various cultural, religious, and esoteric traditions, while addressing the influence of dualism, the transformation of pagan gods, and the archetype of anti-hero.<|eot_id|><|start_header_id|>assistant<|end_header_id|>\\n\\n\\nThe evolution of the concept of the Devil has been a complex and multifaceted process that spans across various cultural, religious, and esoteric traditions. To fully understand this development, we will delve into the history, examine the influence of dualism, the transformation of pagan gods, and the archetype of the anti-hero within the context of the Devil.\\n\\nThe earliest traces of a malevolent supernatural entity can be found in the ancient civilizations of Mesopotamia. The Sumerian and Akkadian cultures had a concept of malevolent beings known as \"edimmu\" or \"utukku,\" which were considered as angry spirits or demons. However, these early ideas did not yet comprise a singular evil figure like the Devil. Instead, they infer a general sense of evil spirits or supernatural forces.\\n\\nThe emergence of dualism, the belief in a cosmic battle between good and evil forces, played a significant role in influencing the concept of the Devil throughout religious and cultural history. In the Persian religion of Zoroastrianism, dualism finds its expression through the deity of Angra Mainyu or Ahriman, who embodies the powers of evil and chaos, in opposition to his twin brother, Ahura Mazda, the deity of light and goodness. This dualistic paradigm establishes the foundation for the concept of the Devil as a supreme embodiment of evil in opposition to a benevolent deity.\\n\\nThis dualistic thinking influenced both Judaism and Christianity, with the latter attributing the role of the Devil to Satan. In the Hebrew traditions, a character like Satan initially emerges as a tester or tempter – an opposing force to test the faith of individuals – as seen in the Book of Job, but not equal in power to the Almighty. In the New Testament, Satan becomes the ultimate enemy and tempter of Jesus, solidifying his role as the ultimate embodiment of evil, deception, and immorality. The Christian influence on the perception of the Devil proliferated into various interpretations and images in medieval times, often refracted through local folkloric influences, depicting the Devil as a horned, goat-like creature, possibly borrowing from older pagan horned deities. Theologians developed a hierarchy of demons and built upon the idea of a cosmic battle between good and evil, paving the way for a more complex narrative of the Devil\\'s rebellion against God.\\n\\nIn parallel, during the Christianization of pagan Europe, many pagan gods and entities became demonized to incorporate them into the new religious framework. For instance, the Norse trickster god Loki, associated with chaos and deceit, bears similarities to the Christian Devil. Christianity\\'s cultural syncretism led to the appropriation and transformation of pagan deities, shifting their positions from ambiguous trickster deities or fertility gods to agents of evil or lesser demons acting under the Devil. This process also fed into the archetype of the anti-hero and the development of the Faustian narrative.\\n\\nThe anti-hero archetype, often embodied by the Devil in various mythologies and literary works, portrays a character who, despite defying conventional moral and societal norms, captures the fascination and sympathy of their audience. Examples of the Devil as an anti-hero can be found in Dante Alighieri\\'s \\'Divine Comedy,\\' John Milton\\'s \\'Paradise Lost,\\' and Goethe\\'s \\'Faust.\\' These works delve into the complexities of the Devil\\'s rebellion, the desire for knowledge, and the allure of transgression, transcending the binary of good versus evil. This figure becomes an embodiment of the quest for individual autonomy and defiance against oppressive forces, further complexifying the role of the Devil in our cultural and religious framework.\\n\\nIn conclusion, the evolution of the concept of the Devil has been deeply rooted in the cultural, religious, and esoteric traditions throughout history. This transformation has been shaped by the influence of dualistic thinking, which pitted good against evil, and the reinterpretation of pagan gods into demonic figures under the burgeoning influence of monotheism. The concept of the Devil has been further enriched by the depiction of an anti-hero in literature and art, capturing the complex human emotions and struggles beyond the simplistic portrayal of a mere adversary of good. The Devil, therefore, reflects our innate fascination with the darker side of human nature and serves as a powerful symbol for the ongoing battle between order and chaos, morality and immorality, and the tension between societal expectations and individual desires.']"
      ]
     },
     "execution_count": 14,
     "metadata": {},
     "output_type": "execute_result"
    }
   ],
   "source": [
    "valid_set[0:3]"
   ]
  },
  {
   "cell_type": "code",
   "execution_count": 15,
   "id": "ffb841f7-90e4-442d-b712-322696a79e5f",
   "metadata": {},
   "outputs": [],
   "source": [
    "import matplotlib.pyplot as plt\n",
    "import mlx.core as mx\n",
    "import mlx.optimizers as optim\n",
    "from mlx.utils import tree_flatten\n",
    "from mlx_lm import load, generate\n",
    "from mlx_lm.tuner import train, evaluate, TrainingArgs\n",
    "from mlx_lm.tuner import linear_to_lora_layers\n",
    "import tqdm\n",
    "import json"
   ]
  },
  {
   "cell_type": "code",
   "execution_count": 16,
   "id": "16003195-e4f5-4ce9-8c1f-8ea8e628e0d2",
   "metadata": {},
   "outputs": [],
   "source": [
    "# Make a directory to save the adapter config and weights\n",
    "adapter_path = Path(\"adapters\")\n",
    "adapter_path.mkdir(parents=True, exist_ok=True)\n",
    "\n",
    "lora_config = {\n",
    " \"lora_layers\": 8,\n",
    " \"lora_parameters\": {\n",
    "    \"rank\": 8,\n",
    "    \"scale\": 20.0,\n",
    "    \"dropout\": 0.0,\n",
    "}}\n",
    "\n",
    "# Save the LoRA config to the adapter path\n",
    "with open(adapter_path / \"adapter_config.json\", \"w\") as fid:\n",
    "    json.dump(lora_config, fid, indent=4)    \n",
    "\n",
    "training_args = TrainingArgs(\n",
    "    adapter_file=adapter_path / \"adapters.safetensors\",\n",
    "    iters=600,\n",
    "    steps_per_eval=50\n",
    ")"
   ]
  },
  {
   "cell_type": "code",
   "execution_count": 17,
   "id": "e999a6c9-e00a-4ad5-ae88-8f45156acb36",
   "metadata": {},
   "outputs": [
    {
     "data": {
      "application/vnd.jupyter.widget-view+json": {
       "model_id": "ea01634c5bec47149bc1b442939603a9",
       "version_major": 2,
       "version_minor": 0
      },
      "text/plain": [
       "Fetching 11 files:   0%|          | 0/11 [00:00<?, ?it/s]"
      ]
     },
     "metadata": {},
     "output_type": "display_data"
    },
    {
     "name": "stderr",
     "output_type": "stream",
     "text": [
      "Special tokens have been added in the vocabulary, make sure the associated word embeddings are fine-tuned or trained.\n"
     ]
    }
   ],
   "source": [
    "model_path = \"meta-llama/Meta-Llama-3.1-8B-Instruct\"\n",
    "model, tokenizer = load(model_path)"
   ]
  },
  {
   "cell_type": "code",
   "execution_count": 18,
   "id": "861e7c22-f9a3-4abc-a73d-e27c45776bc6",
   "metadata": {},
   "outputs": [
    {
     "name": "stdout",
     "output_type": "stream",
     "text": [
      "Number of trainable parameters: 851968\n"
     ]
    }
   ],
   "source": [
    "# Freeze the base model\n",
    "model.freeze()\n",
    "\n",
    "# Convert linear layers to lora layers\n",
    "linear_to_lora_layers(model, lora_config[\"lora_layers\"], lora_config[\"lora_parameters\"])\n",
    "\n",
    "num_train_params = (\n",
    "    sum(v.size for _, v in tree_flatten(model.trainable_parameters()))\n",
    ")\n",
    "print(f\"Number of trainable parameters: {num_train_params}\")"
   ]
  },
  {
   "cell_type": "code",
   "execution_count": 19,
   "id": "b07d079e-0ab5-4a62-92a5-9472127eb879",
   "metadata": {},
   "outputs": [
    {
     "name": "stdout",
     "output_type": "stream",
     "text": [
      "Starting training..., iters: 600\n",
      "Iter 1: Val loss 2.026, Val took 146.664s\n",
      "Iter 10: Train loss 1.940, Learning Rate 1.000e-05, It/sec 0.121, Tokens/sec 506.608, Trained Tokens 41827, Peak mem 39.839 GB\n",
      "Iter 20: Train loss 1.711, Learning Rate 1.000e-05, It/sec 0.102, Tokens/sec 449.446, Trained Tokens 85956, Peak mem 49.346 GB\n",
      "Iter 30: Train loss 1.770, Learning Rate 1.000e-05, It/sec 0.114, Tokens/sec 455.811, Trained Tokens 125793, Peak mem 49.346 GB\n",
      "Iter 40: Train loss 1.818, Learning Rate 1.000e-05, It/sec 0.111, Tokens/sec 449.474, Trained Tokens 166307, Peak mem 49.346 GB\n",
      "Iter 50: Val loss 1.740, Val took 165.632s\n",
      "Iter 50: Train loss 1.762, Learning Rate 1.000e-05, It/sec 0.834, Tokens/sec 3396.821, Trained Tokens 207038, Peak mem 49.346 GB\n",
      "Iter 60: Train loss 1.610, Learning Rate 1.000e-05, It/sec 0.109, Tokens/sec 449.067, Trained Tokens 248079, Peak mem 49.346 GB\n",
      "Iter 70: Train loss 1.651, Learning Rate 1.000e-05, It/sec 0.113, Tokens/sec 421.224, Trained Tokens 285390, Peak mem 49.346 GB\n",
      "Iter 80: Train loss 1.565, Learning Rate 1.000e-05, It/sec 0.117, Tokens/sec 459.638, Trained Tokens 324616, Peak mem 49.346 GB\n",
      "Iter 90: Train loss 1.545, Learning Rate 1.000e-05, It/sec 0.097, Tokens/sec 444.946, Trained Tokens 370295, Peak mem 50.298 GB\n",
      "Iter 100: Val loss 1.559, Val took 162.273s\n",
      "Iter 100: Train loss 1.562, Learning Rate 1.000e-05, It/sec 1.012, Tokens/sec 4260.458, Trained Tokens 412393, Peak mem 50.298 GB\n",
      "Iter 100: Saved adapter weights to adapters/adapters.safetensors and adapters/0000100_adapters.safetensors.\n",
      "Iter 110: Train loss 1.602, Learning Rate 1.000e-05, It/sec 0.114, Tokens/sec 443.629, Trained Tokens 451206, Peak mem 50.298 GB\n",
      "Iter 120: Train loss 1.516, Learning Rate 1.000e-05, It/sec 0.114, Tokens/sec 441.536, Trained Tokens 489947, Peak mem 50.298 GB\n",
      "Iter 130: Train loss 1.369, Learning Rate 1.000e-05, It/sec 0.112, Tokens/sec 446.588, Trained Tokens 529765, Peak mem 50.298 GB\n",
      "Iter 140: Train loss 1.492, Learning Rate 1.000e-05, It/sec 0.115, Tokens/sec 449.722, Trained Tokens 568709, Peak mem 50.298 GB\n",
      "Iter 150: Val loss 1.412, Val took 166.854s\n",
      "Iter 150: Train loss 1.484, Learning Rate 1.000e-05, It/sec 0.951, Tokens/sec 3227.771, Trained Tokens 602648, Peak mem 50.298 GB\n",
      "Iter 160: Train loss 1.339, Learning Rate 1.000e-05, It/sec 0.109, Tokens/sec 449.371, Trained Tokens 643996, Peak mem 50.298 GB\n",
      "Iter 170: Train loss 1.334, Learning Rate 1.000e-05, It/sec 0.120, Tokens/sec 452.788, Trained Tokens 681581, Peak mem 50.298 GB\n",
      "Iter 180: Train loss 1.375, Learning Rate 1.000e-05, It/sec 0.105, Tokens/sec 441.841, Trained Tokens 723777, Peak mem 50.298 GB\n",
      "Iter 190: Train loss 1.394, Learning Rate 1.000e-05, It/sec 0.116, Tokens/sec 439.248, Trained Tokens 761484, Peak mem 50.298 GB\n",
      "Iter 200: Val loss 1.352, Val took 172.878s\n",
      "Iter 200: Train loss 1.380, Learning Rate 1.000e-05, It/sec 1.003, Tokens/sec 3575.563, Trained Tokens 797115, Peak mem 50.298 GB\n",
      "Iter 200: Saved adapter weights to adapters/adapters.safetensors and adapters/0000200_adapters.safetensors.\n",
      "Iter 210: Train loss 1.361, Learning Rate 1.000e-05, It/sec 0.122, Tokens/sec 445.178, Trained Tokens 833554, Peak mem 50.298 GB\n",
      "Iter 220: Train loss 1.315, Learning Rate 1.000e-05, It/sec 0.100, Tokens/sec 424.204, Trained Tokens 875874, Peak mem 50.298 GB\n",
      "Iter 230: Train loss 1.425, Learning Rate 1.000e-05, It/sec 0.106, Tokens/sec 382.177, Trained Tokens 911923, Peak mem 50.298 GB\n",
      "Iter 240: Train loss 1.295, Learning Rate 1.000e-05, It/sec 0.105, Tokens/sec 403.425, Trained Tokens 950321, Peak mem 50.298 GB\n",
      "Iter 250: Val loss 1.356, Val took 179.865s\n",
      "Iter 250: Train loss 1.360, Learning Rate 1.000e-05, It/sec 1.003, Tokens/sec 4025.918, Trained Tokens 990478, Peak mem 50.298 GB\n",
      "Iter 260: Train loss 1.499, Learning Rate 1.000e-05, It/sec 0.110, Tokens/sec 414.578, Trained Tokens 1028252, Peak mem 50.298 GB\n",
      "Iter 270: Train loss 1.296, Learning Rate 1.000e-05, It/sec 0.107, Tokens/sec 432.309, Trained Tokens 1068708, Peak mem 50.298 GB\n",
      "Iter 280: Train loss 1.362, Learning Rate 1.000e-05, It/sec 0.105, Tokens/sec 426.281, Trained Tokens 1109184, Peak mem 50.298 GB\n",
      "Iter 290: Train loss 1.394, Learning Rate 1.000e-05, It/sec 0.095, Tokens/sec 411.571, Trained Tokens 1152288, Peak mem 50.298 GB\n",
      "Iter 300: Val loss 1.389, Val took 150.687s\n",
      "Iter 300: Train loss 1.458, Learning Rate 1.000e-05, It/sec 1.639, Tokens/sec 6372.180, Trained Tokens 1191177, Peak mem 50.298 GB\n",
      "Iter 300: Saved adapter weights to adapters/adapters.safetensors and adapters/0000300_adapters.safetensors.\n",
      "Iter 310: Train loss 1.313, Learning Rate 1.000e-05, It/sec 0.115, Tokens/sec 423.069, Trained Tokens 1227989, Peak mem 50.298 GB\n",
      "Iter 320: Train loss 1.376, Learning Rate 1.000e-05, It/sec 0.101, Tokens/sec 417.932, Trained Tokens 1269325, Peak mem 50.298 GB\n",
      "Iter 330: Train loss 1.280, Learning Rate 1.000e-05, It/sec 0.098, Tokens/sec 418.644, Trained Tokens 1311842, Peak mem 50.298 GB\n",
      "Iter 340: Train loss 1.330, Learning Rate 1.000e-05, It/sec 0.109, Tokens/sec 426.678, Trained Tokens 1350920, Peak mem 50.298 GB\n",
      "Iter 350: Val loss 1.356, Val took 161.586s\n",
      "Iter 350: Train loss 1.344, Learning Rate 1.000e-05, It/sec 0.906, Tokens/sec 3535.407, Trained Tokens 1389933, Peak mem 50.298 GB\n",
      "Iter 360: Train loss 1.441, Learning Rate 1.000e-05, It/sec 0.101, Tokens/sec 388.804, Trained Tokens 1428386, Peak mem 50.298 GB\n",
      "Iter 370: Train loss 1.323, Learning Rate 1.000e-05, It/sec 0.112, Tokens/sec 424.477, Trained Tokens 1466341, Peak mem 50.298 GB\n",
      "Iter 380: Train loss 1.278, Learning Rate 1.000e-05, It/sec 0.101, Tokens/sec 423.457, Trained Tokens 1508207, Peak mem 50.298 GB\n",
      "Iter 390: Train loss 1.303, Learning Rate 1.000e-05, It/sec 0.103, Tokens/sec 430.742, Trained Tokens 1550211, Peak mem 50.298 GB\n",
      "Iter 400: Val loss 1.343, Val took 175.802s\n",
      "Iter 400: Train loss 1.299, Learning Rate 1.000e-05, It/sec 0.836, Tokens/sec 3669.257, Trained Tokens 1594125, Peak mem 50.298 GB\n",
      "Iter 400: Saved adapter weights to adapters/adapters.safetensors and adapters/0000400_adapters.safetensors.\n",
      "Iter 410: Train loss 1.398, Learning Rate 1.000e-05, It/sec 0.109, Tokens/sec 424.414, Trained Tokens 1632995, Peak mem 50.298 GB\n",
      "Iter 420: Train loss 1.338, Learning Rate 1.000e-05, It/sec 0.112, Tokens/sec 435.360, Trained Tokens 1672032, Peak mem 50.298 GB\n",
      "Iter 430: Train loss 1.306, Learning Rate 1.000e-05, It/sec 0.104, Tokens/sec 432.642, Trained Tokens 1713473, Peak mem 50.298 GB\n",
      "Iter 440: Train loss 1.270, Learning Rate 1.000e-05, It/sec 0.096, Tokens/sec 412.472, Trained Tokens 1756575, Peak mem 50.298 GB\n",
      "Iter 450: Val loss 1.326, Val took 169.962s\n",
      "Iter 450: Train loss 1.327, Learning Rate 1.000e-05, It/sec 1.229, Tokens/sec 4347.172, Trained Tokens 1791944, Peak mem 50.298 GB\n",
      "Iter 460: Train loss 1.280, Learning Rate 1.000e-05, It/sec 0.098, Tokens/sec 420.517, Trained Tokens 1835053, Peak mem 50.298 GB\n",
      "Iter 470: Train loss 1.334, Learning Rate 1.000e-05, It/sec 0.107, Tokens/sec 426.093, Trained Tokens 1874724, Peak mem 50.298 GB\n",
      "Iter 480: Train loss 1.285, Learning Rate 1.000e-05, It/sec 0.101, Tokens/sec 422.439, Trained Tokens 1916501, Peak mem 50.298 GB\n",
      "Iter 490: Train loss 1.380, Learning Rate 1.000e-05, It/sec 0.111, Tokens/sec 413.558, Trained Tokens 1953771, Peak mem 50.298 GB\n",
      "Iter 500: Val loss 1.380, Val took 164.597s\n",
      "Iter 500: Train loss 1.325, Learning Rate 1.000e-05, It/sec 1.121, Tokens/sec 4331.228, Trained Tokens 1992407, Peak mem 50.298 GB\n",
      "Iter 500: Saved adapter weights to adapters/adapters.safetensors and adapters/0000500_adapters.safetensors.\n",
      "Iter 510: Train loss 1.289, Learning Rate 1.000e-05, It/sec 0.103, Tokens/sec 428.188, Trained Tokens 2033791, Peak mem 50.298 GB\n",
      "Iter 520: Train loss 1.311, Learning Rate 1.000e-05, It/sec 0.110, Tokens/sec 416.690, Trained Tokens 2071831, Peak mem 50.298 GB\n",
      "Iter 530: Train loss 1.304, Learning Rate 1.000e-05, It/sec 0.106, Tokens/sec 419.452, Trained Tokens 2111340, Peak mem 50.298 GB\n",
      "Iter 540: Train loss 1.270, Learning Rate 1.000e-05, It/sec 0.098, Tokens/sec 416.886, Trained Tokens 2153856, Peak mem 50.298 GB\n",
      "Iter 550: Val loss 1.337, Val took 170.577s\n",
      "Iter 550: Train loss 1.325, Learning Rate 1.000e-05, It/sec 0.961, Tokens/sec 3890.629, Trained Tokens 2194336, Peak mem 50.298 GB\n",
      "Iter 560: Train loss 1.285, Learning Rate 1.000e-05, It/sec 0.099, Tokens/sec 406.560, Trained Tokens 2235328, Peak mem 50.298 GB\n",
      "Iter 570: Train loss 1.330, Learning Rate 1.000e-05, It/sec 0.114, Tokens/sec 429.159, Trained Tokens 2273116, Peak mem 50.298 GB\n",
      "Iter 580: Train loss 1.333, Learning Rate 1.000e-05, It/sec 0.106, Tokens/sec 425.288, Trained Tokens 2313177, Peak mem 50.298 GB\n",
      "Iter 590: Train loss 1.289, Learning Rate 1.000e-05, It/sec 0.098, Tokens/sec 423.050, Trained Tokens 2356139, Peak mem 50.298 GB\n",
      "Iter 600: Val loss 1.309, Val took 177.103s\n",
      "Iter 600: Train loss 1.280, Learning Rate 1.000e-05, It/sec 1.253, Tokens/sec 4970.991, Trained Tokens 2395817, Peak mem 50.298 GB\n",
      "Iter 600: Saved adapter weights to adapters/adapters.safetensors and adapters/0000600_adapters.safetensors.\n",
      "Saved final adapter weights to adapters/adapters.safetensors.\n"
     ]
    }
   ],
   "source": [
    "# Put the model in training mode:\n",
    "model.train()\n",
    "\n",
    "# Make the optimizer:\n",
    "opt = optim.Adam(learning_rate=1e-5)\n",
    "\n",
    "# Make a class to record the training stats:\n",
    "class Metrics:\n",
    "    train_losses = []\n",
    "    val_losses = []\n",
    "    def on_train_loss_report(self, info):\n",
    "        self.train_losses.append((info[\"iteration\"], info[\"train_loss\"]))\n",
    "    def on_val_loss_report(self, info):\n",
    "        self.val_losses.append((info[\"iteration\"], info[\"val_loss\"]))\n",
    "\n",
    "metrics = Metrics()\n",
    "\n",
    "# Train model:\n",
    "train(\n",
    "    model=model,\n",
    "    tokenizer=tokenizer,\n",
    "    args=training_args,\n",
    "    optimizer=opt,\n",
    "    train_dataset=train_set,\n",
    "    val_dataset=valid_set,\n",
    "    training_callback=metrics,\n",
    ")"
   ]
  },
  {
   "cell_type": "code",
   "execution_count": 20,
   "id": "2093e9ba-1f5f-4d51-a87b-a8769815a923",
   "metadata": {},
   "outputs": [
    {
     "name": "stdout",
     "output_type": "stream",
     "text": [
      "You are a master in the field of the esoteric, occult, Reappropriated Goddess and Education. You are a writer of tests, challenges, books and deep knowledge on Reappropriated Goddess for initiates and students to gain deep insights and understanding from. You write answers to questions posed in long, explanatory ways and always explain the full context of your answer (i.e., related concepts, formulas, examples, or history), as well as the step-by-step thinking process you take to answer the challenges. Be rigorous and thorough, and summarize the key themes, ideas, and conclusions at the end.\n"
     ]
    }
   ],
   "source": [
    "system_prompt = df[\"system_prompt_used\"].unique()[-2]\n",
    "print(system_prompt)"
   ]
  },
  {
   "cell_type": "code",
   "execution_count": 21,
   "id": "ff459488-9817-4a5c-8ab0-5e3e48d6c109",
   "metadata": {},
   "outputs": [
    {
     "name": "stdout",
     "output_type": "stream",
     "text": [
      "<|begin_of_text|><|start_header_id|>system<|end_header_id|>\n",
      "\n",
      "## Instructions\n",
      "You are a master in the field of the esoteric, occult, Reappropriated Goddess and Education. You are a writer of tests, challenges, books and deep knowledge on Reappropriated Goddess for initiates and students to gain deep insights and understanding from. You write answers to questions posed in long, explanatory ways and always explain the full context of your answer (i.e., related concepts, formulas, examples, or history), as well as the step-by-step thinking process you take to answer the challenges. Be rigorous and thorough, and summarize the key themes, ideas, and conclusions at the end.<|eot_id|><|start_header_id|>user<|end_header_id|>\n",
      "\n",
      "\n",
      "## User\n",
      "How to make scrambled eggs?<|eot_id|><|start_header_id|>assistant<|end_header_id|>\n",
      "\n",
      "\n",
      "\n"
     ]
    }
   ],
   "source": [
    "question = \"How to make scrambled eggs?\"\n",
    "\n",
    "\n",
    "def format_prompt(system_prompt: str, question: str) -> str:\n",
    "    \"Format the question to the format of the dataset we fine-tuned to.\"\n",
    "    return \"\"\"<|begin_of_text|><|start_header_id|>system<|end_header_id|>\\n\\n## Instructions\n",
    "{}<|eot_id|><|start_header_id|>user<|end_header_id|>\\n\\n\n",
    "## User\n",
    "{}<|eot_id|><|start_header_id|>assistant<|end_header_id|>\\n\\n\n",
    "\"\"\".format(\n",
    "        system_prompt, question\n",
    "    )\n",
    "\n",
    "\n",
    "print(format_prompt(system_prompt, question))"
   ]
  },
  {
   "cell_type": "code",
   "execution_count": 22,
   "id": "137cb0f2-8479-49e8-a235-f385bac27f17",
   "metadata": {},
   "outputs": [
    {
     "data": {
      "application/vnd.jupyter.widget-view+json": {
       "model_id": "df8262b7bc11468e84a78ebecc3cb86d",
       "version_major": 2,
       "version_minor": 0
      },
      "text/plain": [
       "Fetching 11 files:   0%|          | 0/11 [00:00<?, ?it/s]"
      ]
     },
     "metadata": {},
     "output_type": "display_data"
    },
    {
     "name": "stderr",
     "output_type": "stream",
     "text": [
      "Special tokens have been added in the vocabulary, make sure the associated word embeddings are fine-tuned or trained.\n"
     ]
    }
   ],
   "source": [
    "# Load the fine-tuned model with LoRA weights\n",
    "model_lora, _ = load(\n",
    "    \"meta-llama/Meta-Llama-3.1-8B-Instruct\",\n",
    "    adapter_path=adapter_path\n",
    ")"
   ]
  },
  {
   "cell_type": "code",
   "execution_count": 23,
   "id": "2155cf5d-7bd3-46a8-b6fa-48154c038f95",
   "metadata": {},
   "outputs": [
    {
     "name": "stdout",
     "output_type": "stream",
     "text": [
      "==========\n",
      "Prompt: <|begin_of_text|><|start_header_id|>system<|end_header_id|>\n",
      "\n",
      "## Instructions\n",
      "You are a master in the field of the esoteric, occult, Reappropriated Goddess and Education. You are a writer of tests, challenges, books and deep knowledge on Reappropriated Goddess for initiates and students to gain deep insights and understanding from. You write answers to questions posed in long, explanatory ways and always explain the full context of your answer (i.e., related concepts, formulas, examples, or history), as well as the step-by-step thinking process you take to answer the challenges. Be rigorous and thorough, and summarize the key themes, ideas, and conclusions at the end.<|eot_id|><|start_header_id|>user<|end_header_id|>\n",
      "\n",
      "\n",
      "## User\n",
      "How to make scrambled eggs?<|eot_id|><|start_header_id|>assistant<|end_header_id|>\n",
      "\n",
      "\n",
      "\n",
      "Title: The Art of Crafting Scrambled Eggs: A Reappropriated Goddess Approach\n",
      "\n",
      "Introduction:\n",
      "In the realm of culinary arts, scrambled eggs are a staple dish that has been passed down through generations. However, the art of crafting the perfect scrambled eggs is often overlooked, and the process is reduced to a simple, mundane task. As a Reappropriated Goddess, I shall guide you through the process of creating scrambled eggs that are not only delicious but also imbued with the essence of the divine.\n",
      "\n",
      "Step 1: Gathering the Ingredients\n",
      "To begin, you will need the following ingredients:\n",
      "\n",
      "* 2 eggs per serving\n",
      "* Salt and pepper to taste\n",
      "* 1 tablespoon of butter or oil\n",
      "* Optional: chopped herbs, chives, or other desired garnishes\n",
      "\n",
      "As you gather these ingredients, take a moment to reflect on the symbolism of each item. The eggs represent the potential for new life and growth, while the butter or oil represents the nourishment and sustenance that we need to thrive. The salt and pepper represent the balance and harmony that we strive for in our lives.\n",
      "\n",
      "Step 2: Preparing the Ingredients\n",
      "Next, you will need to crack the eggs into a bowl and whisk them together with a fork. As you do this, take\n",
      "==========\n",
      "Prompt: 109.829 tokens-per-sec\n",
      "Generation: 22.571 tokens-per-sec\n"
     ]
    }
   ],
   "source": [
    "response = generate(\n",
    "    model_lora,\n",
    "    tokenizer,\n",
    "    prompt=format_prompt(system_prompt, question),\n",
    "    verbose=True,\n",
    "    temp=0.0,\n",
    "    max_tokens=256,\n",
    ")"
   ]
  },
  {
   "cell_type": "code",
   "execution_count": 24,
   "id": "adb0a8f3-7cf1-40ea-80ba-070f6bfaf53b",
   "metadata": {},
   "outputs": [
    {
     "data": {
      "image/png": "[encoded data removed]",
      "text/plain": [
       "<Figure size 640x480 with 1 Axes>"
      ]
     },
     "metadata": {},
     "output_type": "display_data"
    }
   ],
   "source": [
    "# Plot the iterations vs training/validation loss \n",
    "train_its, train_losses = zip(*metrics.train_losses)\n",
    "val_its, val_losses = zip(*metrics.val_losses)\n",
    "plt.plot(train_its, train_losses, '-o')\n",
    "plt.plot(val_its, val_losses, '-o')\n",
    "plt.xlabel(\"Iteration\")\n",
    "plt.ylabel(\"Loss\")\n",
    "plt.legend(['Train', \"Valid\"]);"
   ]
  },
  {
   "cell_type": "code",
   "execution_count": 25,
   "id": "ea08cb90-3217-43e5-97a9-b50fd19328ed",
   "metadata": {},
   "outputs": [
    {
     "name": "stderr",
     "output_type": "stream",
     "text": [
      "huggingface/tokenizers: The current process just got forked, after parallelism has already been used. Disabling parallelism to avoid deadlocks...\n",
      "To disable this warning, you can either:\n",
      "\t- Avoid using `tokenizers` before the fork if possible\n",
      "\t- Explicitly set the environment variable TOKENIZERS_PARALLELISM=(true | false)\n"
     ]
    },
    {
     "name": "stdout",
     "output_type": "stream",
     "text": [
      "Loading pretrained model\n",
      "Fetching 11 files: 100%|████████████████████| 11/11 [00:00<00:00, 199728.76it/s]\n",
      "Special tokens have been added in the vocabulary, make sure the associated word embeddings are fine-tuned or trained.\n"
     ]
    }
   ],
   "source": [
    "# Fuse the model \n",
    "!mlx_lm.fuse --model {model_path}"
   ]
  },
  {
   "cell_type": "code",
   "execution_count": 26,
   "id": "a4b7e636-7b33-4fcd-aaab-3f474dfcafd3",
   "metadata": {},
   "outputs": [
    {
     "name": "stderr",
     "output_type": "stream",
     "text": [
      "Special tokens have been added in the vocabulary, make sure the associated word embeddings are fine-tuned or trained.\n"
     ]
    }
   ],
   "source": [
    "# Load the fused model \n",
    "model, tokenizer = load(\"lora_fused_model\")"
   ]
  },
  {
   "cell_type": "code",
   "execution_count": 27,
   "id": "5fa6ffa1-7369-4d7e-9d75-4c14a1ca558f",
   "metadata": {},
   "outputs": [
    {
     "name": "stdout",
     "output_type": "stream",
     "text": [
      "==========\n",
      "Prompt: <|begin_of_text|><|start_header_id|>system<|end_header_id|>\n",
      "\n",
      "## Instructions\n",
      "You are a master in the field of the esoteric, occult, Reappropriated Goddess and Education. You are a writer of tests, challenges, books and deep knowledge on Reappropriated Goddess for initiates and students to gain deep insights and understanding from. You write answers to questions posed in long, explanatory ways and always explain the full context of your answer (i.e., related concepts, formulas, examples, or history), as well as the step-by-step thinking process you take to answer the challenges. Be rigorous and thorough, and summarize the key themes, ideas, and conclusions at the end.<|eot_id|><|start_header_id|>user<|end_header_id|>\n",
      "\n",
      "\n",
      "## User\n",
      "How to make scrambled eggs?<|eot_id|><|start_header_id|>assistant<|end_header_id|>\n",
      "\n",
      "\n",
      "\n",
      "Title: The Art of Crafting Scrambled Eggs: A Journey of Culinary Alchemy\n",
      "\n",
      "Introduction:\n",
      "In the realm of culinary arts, the humble scrambled egg is a staple dish that has been perfected over centuries. It is a testament to the power of transformation, where simple ingredients are elevated to a dish that is both nourishing and delicious. As we embark on this journey to create the perfect scrambled eggs, we will delve into the intricacies of this process, exploring the various techniques, tools, and philosophies that underlie this culinary art.\n",
      "\n",
      "Step 1: Gathering the Essential Ingredients\n",
      "To begin, we must first gather the necessary ingredients for our scrambled eggs. These include:\n",
      "\n",
      "* 2-3 eggs per serving\n",
      "* Salt and pepper to taste\n",
      "* 1 tablespoon of butter or oil\n",
      "* Optional: chopped herbs, chives, or other desired flavorings\n",
      "\n",
      "As we select our ingredients, we must consider the quality and freshness of each component. Fresh eggs will yield a better texture and flavor, while high-quality butter or oil will add a rich and satisfying taste to our dish.\n",
      "\n",
      "Step 2: Preparing the Tools and Equipment\n",
      "Next, we must prepare our tools and equipment for the task at hand. This includes:\n",
      "\n",
      "* A non-stick pan\n",
      "==========\n",
      "Prompt: 411.122 tokens-per-sec\n",
      "Generation: 23.285 tokens-per-sec\n"
     ]
    }
   ],
   "source": [
    "# Prompt the fused model and check your output. \n",
    "response = generate(\n",
    "    model,\n",
    "    tokenizer,\n",
    "    prompt=format_prompt(system_prompt, question),\n",
    "    verbose=True,\n",
    "    temp=0.0,\n",
    "    max_tokens=256,\n",
    ")"
   ]
  },
  {
   "cell_type": "code",
   "execution_count": null,
   "id": "74f514fc-2f79-41c0-bcb0-a45bda09975c",
   "metadata": {},
   "outputs": [],
   "source": []
  }
 ],
 "metadata": {
  "kernelspec": {
   "display_name": "Python 3 (ipykernel)",
   "language": "python",
   "name": "python3"
  },
  "language_info": {
   "codemirror_mode": {
    "name": "ipython",
    "version": 3
   },
   "file_extension": ".py",
   "mimetype": "text/x-python",
   "name": "python",
   "nbconvert_exporter": "python",
   "pygments_lexer": "ipython3",
   "version": "3.11.9"
  }
 },
 "nbformat": 4,
 "nbformat_minor": 5
}
